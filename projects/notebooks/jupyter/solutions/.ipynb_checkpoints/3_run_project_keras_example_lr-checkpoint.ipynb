{
 "cells": [
  {
   "cell_type": "markdown",
   "metadata": {},
   "source": [
    "### MLflow Project Example\n",
    "\n",
    "<table>\n",
    "  <tr><td>\n",
    "    <img src=\"https://raw.githubusercontent.com/dmatrix/mlflow-workshop-part-2/master/images/project.png\"\n",
    "         alt=\"Bank Note \" width=\"400\">\n",
    "  </td></tr>\n",
    "</table>\n",
    "\n",
    "An MLflow Project is a format for packaging data science code in a reusable and reproducible way, based primarily on conventions. \n",
    "\n",
    "In addition, the Projects component includes an API and command-line tools for running projects, making it possible to chain together projects into workflows.\n",
    "You can run projects as:\n",
    "\n",
    "* From command line: ```mlflow run git://<my_project> -P <arg>=<value> ... -P <arg>=<value>```\n",
    "* In GitHub Repo: ``` cd <gitbub_project_directory>; mlflow run . -e <entry_point> -P <arg>=<value> ... -P <arg>=<value>```\n",
    "* Programmatically: ``` mlflow.run(\"git://<my_project>\", parameters={'arg':value, 'arg':value})```\n",
    "* Programmatically: ``` mlflow.projects.run(\"git://<my_project>\", parameters={'arg':value, 'arg':value})```"
   ]
  },
  {
   "cell_type": "markdown",
   "metadata": {},
   "source": [
    "### What's does a MLflow Keras Project Look Like?\n",
    "\n",
    "[MLflow Project Keras Example](https://github.com/dmatrix/mlflow-workshop-project-expamle-1)\n",
    " * MLProject\n",
    " * conda.yaml\n",
    " * sources\n",
    " * data\n",
    " \n",
    " This demonstrates reproducibility of how the MLflow Keras Project—and all its dependencies were preserved and replicated here."
   ]
  },
  {
   "cell_type": "code",
   "execution_count": 1,
   "metadata": {},
   "outputs": [],
   "source": [
    "import mlflow\n",
    "import warnings\n",
    "from mlflow import projects"
   ]
  },
  {
   "cell_type": "code",
   "execution_count": 2,
   "metadata": {},
   "outputs": [
    {
     "name": "stdout",
     "output_type": "stream",
     "text": [
      "mlflow version=1.10.0\n"
     ]
    }
   ],
   "source": [
    "warnings.filterwarnings(\"ignore\", category=DeprecationWarning)\n",
    "print(f\"mlflow version={mlflow.__version__}\")"
   ]
  },
  {
   "cell_type": "markdown",
   "metadata": {},
   "source": [
    "Define parameters"
   ]
  },
  {
   "cell_type": "code",
   "execution_count": 3,
   "metadata": {},
   "outputs": [],
   "source": [
    "params = {'batch_size': 10,'epochs': 100}\n",
    "ml_project_uri = \"git://github.com/dmatrix/mlflow-workshop-project-expamle-1.git\""
   ]
  },
  {
   "cell_type": "code",
   "execution_count": 4,
   "metadata": {},
   "outputs": [
    {
     "name": "stderr",
     "output_type": "stream",
     "text": [
      "2020/08/18 14:47:46 INFO mlflow.projects.utils: === Fetching project from git://github.com/dmatrix/mlflow-workshop-project-expamle-1.git into /var/folders/jz/qg062ynx5v39wwmfxmph5nn40000gp/T/tmpfwft5ymi ===\n"
     ]
    },
    {
     "name": "stdout",
     "output_type": "stream",
     "text": [
      "Running with param = {'batch_size': 10, 'epochs': 100}\n"
     ]
    },
    {
     "name": "stderr",
     "output_type": "stream",
     "text": [
      "2020/08/18 14:47:49 INFO mlflow.projects: === Creating conda environment mlflow-05c16d425ce054cc91eb1f13f2cea088d75b5454 ===\n",
      "2020/08/18 14:48:38 INFO mlflow.projects: === Created directory /var/folders/jz/qg062ynx5v39wwmfxmph5nn40000gp/T/tmp40lawimt for downloading remote URIs passed to arguments of type 'path' ===\n",
      "2020/08/18 14:48:38 INFO mlflow.projects: === Running command 'source /Applications/anaconda3/bin/../etc/profile.d/conda.sh && conda activate mlflow-05c16d425ce054cc91eb1f13f2cea088d75b5454 1>&2 && python train_keras.py 10 100' in run with ID '4d8d04cbfb7e475da882d795b6f078e3' === \n",
      "2020/08/18 14:49:26 INFO mlflow.projects: === Run (ID '4d8d04cbfb7e475da882d795b6f078e3') succeeded ===\n"
     ]
    },
    {
     "name": "stdout",
     "output_type": "stream",
     "text": [
      "status=FINISHED\n",
      "run_id=4d8d04cbfb7e475da882d795b6f078e3\n"
     ]
    }
   ],
   "source": [
    "warnings.filterwarnings(\"ignore\", category=DeprecationWarning)\n",
    "# Iterate over three different runs with different parameters\n",
    "print(f\"Running with param = {params}\")\n",
    "res_sub = mlflow.run(ml_project_uri, parameters=params)\n",
    "print(f\"status={res_sub.get_status()}\")\n",
    "print(f\"run_id={res_sub.run_id}\")"
   ]
  },
  {
   "cell_type": "markdown",
   "metadata": {},
   "source": [
    "### Check the MLflow UI\n",
    "\n",
    "It should have the same dependencies:\n",
    " * conda.yaml with the same libraries and dependencies installed.\n",
    " * TF in the model and GitHub conda.yaml should be same"
   ]
  },
  {
   "cell_type": "markdown",
   "metadata": {},
   "source": [
    "### Load the Keras Model Flavor as a PyFunc Flavor \n",
    "<table>\n",
    "    <img src=\"https://raw.githubusercontent.com/dmatrix/mlflow-workshop-part-2/master/images/models_2.png\"\n",
    "         alt=\"Bank Note \" width=\"400\">\n",
    "  </td></tr>\n",
    "</table>"
   ]
  },
  {
   "cell_type": "code",
   "execution_count": 5,
   "metadata": {},
   "outputs": [
    {
     "name": "stdout",
     "output_type": "stream",
     "text": [
      "Loading the Keras Model=runs:/4d8d04cbfb7e475da882d795b6f078e3/model as Pyfunc Model\n"
     ]
    },
    {
     "name": "stderr",
     "output_type": "stream",
     "text": [
      "Using TensorFlow backend.\n"
     ]
    }
   ],
   "source": [
    "import mlflow.pyfunc\n",
    "# Load this better Keras Model with TF 2.x Flavor as a pyfunc model flavor and make a prediction\n",
    "pyfunc_uri = f\"runs:/{res_sub.run_id}/model\"\n",
    "pyfunc_model = mlflow.pyfunc.load_model(pyfunc_uri)\n",
    "print(f\"Loading the Keras Model={pyfunc_uri} as Pyfunc Model\")"
   ]
  },
  {
   "cell_type": "markdown",
   "metadata": {},
   "source": [
    "Make a prediction"
   ]
  },
  {
   "cell_type": "markdown",
   "metadata": {},
   "source": [
    "<table>\n",
    "  <tr><td>\n",
    "    <img src=\"https://raw.githubusercontent.com/dmatrix/mlflow-workshop-part-2/master/images/temperature-conversion.png\"\n",
    "         alt=\"Bank Note \" width=\"600\">\n",
    "  </td></tr>\n",
    "</table>"
   ]
  },
  {
   "cell_type": "code",
   "execution_count": 6,
   "metadata": {},
   "outputs": [
    {
     "name": "stdout",
     "output_type": "stream",
     "text": [
      "           0\n",
      "0   0.146465\n",
      "1  99.936699\n",
      "2  93.254723\n",
      "3  96.595711\n"
     ]
    }
   ],
   "source": [
    "import numpy as np\n",
    "import pandas as pd\n",
    "# Given Fahernheight -> Predict Celcius\n",
    "# Create a pandas DataFrame with Fahrenheit unseen values\n",
    "# Get the Celius prediction\n",
    "df = pd.DataFrame(np.array([32, 212, 200, 206]))\n",
    "pred = pyfunc_model.predict(df)\n",
    "print(pred)"
   ]
  },
  {
   "cell_type": "markdown",
   "metadata": {},
   "source": [
    "### Summary\n",
    "\n",
    "* Demonstrates reproducibility of MLflow Projects\n",
    "* Ability to Load a Keras Model as a pyfunc and execute \n",
    "* Note the different version of the TensorFlow used \n",
    " * ``TF 2.2.0`` in `run_example_keras_lr`\n",
    " * ``TF 2.0.0`` in `run_project_example_lr` (as seen in the project's and this run's [conda.yaml](https://github.com/dmatrix/mlflow-workshop-project-expamle-1/blob/master/conda.yaml))"
   ]
  },
  {
   "cell_type": "markdown",
   "metadata": {},
   "source": [
    "### Homework/Lab Assignment\n",
    "\n",
    "Using what we have learning in this session:\n",
    " * Improve the Keras Model with different parameters\n",
    "  * More input_units\n",
    "  * Use train/split and validation data\n",
    "  * Increase the size of training data\n",
    "  * Run at least three experiments\n",
    "  * Compare the runs and metrics\n",
    " * Using one of the models explored in [Part 1](https://github.com/dmatrix/mlflow-workshop-part-1), build an MLflow GitHub Project\n",
    "    * Supply different arguments as model parameters\n",
    "    \n",
    "* Or Take one of your ML code and covert it into MLflow Project in your GitHub account"
   ]
  }
 ],
 "metadata": {
  "kernelspec": {
   "display_name": "Python 3",
   "language": "python",
   "name": "python3"
  },
  "language_info": {
   "codemirror_mode": {
    "name": "ipython",
    "version": 3
   },
   "file_extension": ".py",
   "mimetype": "text/x-python",
   "name": "python",
   "nbconvert_exporter": "python",
   "pygments_lexer": "ipython3",
   "version": "3.7.5"
  },
  "name": "3_run_project_keras_example_lr",
  "notebookId": 3028997146775868
 },
 "nbformat": 4,
 "nbformat_minor": 1
}
