{
 "cells": [
  {
   "cell_type": "markdown",
   "metadata": {},
   "source": [
    "### MLflow Project Example\n",
    "\n",
    "<table>\n",
    "  <tr><td>\n",
    "    <img src=\"https://raw.githubusercontent.com/dmatrix/mlflow-workshop-part-2/master/images/project.png\"\n",
    "         alt=\"Bank Note \" width=\"400\">\n",
    "  </td></tr>\n",
    "</table>\n",
    "\n",
    "An MLflow Project is a format for packaging data science code in a reusable and reproducible way, based primarily on conventions. \n",
    "\n",
    "In addition, the Projects component includes an API and command-line tools for running projects, making it possible to chain together projects into workflows.\n",
    "You can run projects as:\n",
    "\n",
    "* From command line: ```mlflow run git://<my_project> -P <arg>=<value> ... -P <arg>=<value>```\n",
    "* In GitHub Repo: ``` cd <gitbub_project_directory>; mlflow run . -e <entry_point> -P <arg>=<value> ... -P <arg>=<value>```\n",
    "* Programmatically: ``` mlflow.run(\"git://<my_project>\", parameters={'arg':value, 'arg':value})```\n",
    "* Programmatically: ``` mlflow.projects.run(\"git://<my_project>\", parameters={'arg':value, 'arg':value})```"
   ]
  },
  {
   "cell_type": "markdown",
   "metadata": {},
   "source": [
    "### What's does a MLflow Project Look Like?\n",
    "\n",
    "\n",
    "[MLflow Project Example](https://github.com/mlflow/mlflow-example)\n",
    " * MLProject\n",
    " * conda.yaml\n",
    " * code ...\n",
    " * data"
   ]
  },
  {
   "cell_type": "code",
   "execution_count": 2,
   "metadata": {},
   "outputs": [
    {
     "name": "stdout",
     "output_type": "stream",
     "text": [
      "1.10.0\n"
     ]
    }
   ],
   "source": [
    "import mlflow\n",
    "import warnings\n",
    "from mlflow import projects\n",
    "print(mlflow.__version__)"
   ]
  },
  {
   "cell_type": "markdown",
   "metadata": {},
   "source": [
    "#### Configure databricks CLI\n",
    "\n",
    "We have to configure the credentials here only for Databricks notebooks. On a localhost this step is unecessary."
   ]
  },
  {
   "cell_type": "markdown",
   "metadata": {},
   "source": [
    "Define arguments for alpha"
   ]
  },
  {
   "cell_type": "code",
   "execution_count": 3,
   "metadata": {},
   "outputs": [],
   "source": [
    "parameters = [{'alpha': 0.3}]\n",
    "ml_project_uri = \"git://github.com/mlflow/mlflow-example.git\""
   ]
  },
  {
   "cell_type": "markdown",
   "metadata": {},
   "source": [
    "Use MLflow Fluent API\n",
    " * [mlflow.run(...)](https://mlflow.org/docs/latest/python_api/mlflow.html#mlflow.run)\n",
    " * Returns [SubmittedRun](https://mlflow.org/docs/latest/python_api/mlflow.projects.html#mlflow.projects.SubmittedRunhttps://mlflow.org/docs/latest/python_api/mlflow.projects.html#mlflow.projects.SubmittedRunhttps://mlflow.org/docs/latest/python_api/mlflow.projects.html#mlflow.projects.SubmittedRun) object"
   ]
  },
  {
   "cell_type": "code",
   "execution_count": 4,
   "metadata": {},
   "outputs": [
    {
     "name": "stderr",
     "output_type": "stream",
     "text": [
      "2020/08/18 14:37:59 INFO mlflow.projects.utils: === Fetching project from git://github.com/mlflow/mlflow-example.git into /var/folders/jz/qg062ynx5v39wwmfxmph5nn40000gp/T/tmpxglrl4tq ===\n"
     ]
    },
    {
     "name": "stdout",
     "output_type": "stream",
     "text": [
      "Running with param = {'alpha': 0.3}\n"
     ]
    },
    {
     "name": "stderr",
     "output_type": "stream",
     "text": [
      "2020/08/18 14:38:02 INFO mlflow.projects: === Creating conda environment mlflow-1abc00771765dd9dd15731cbda4938c765fbb90b ===\n",
      "2020/08/18 14:38:54 INFO mlflow.projects: === Created directory /var/folders/jz/qg062ynx5v39wwmfxmph5nn40000gp/T/tmpt5aklxoc for downloading remote URIs passed to arguments of type 'path' ===\n",
      "2020/08/18 14:38:54 INFO mlflow.projects: === Running command 'source /Applications/anaconda3/bin/../etc/profile.d/conda.sh && conda activate mlflow-1abc00771765dd9dd15731cbda4938c765fbb90b 1>&2 && python train.py 0.3 0.1' in run with ID '636d5a64af3a4fef81fbc21f903a631b' === \n",
      "2020/08/18 14:38:56 INFO mlflow.projects: === Run (ID '636d5a64af3a4fef81fbc21f903a631b') succeeded ===\n"
     ]
    },
    {
     "name": "stdout",
     "output_type": "stream",
     "text": [
      "status=FINISHED\n",
      "run_id=636d5a64af3a4fef81fbc21f903a631b\n"
     ]
    }
   ],
   "source": [
    "warnings.filterwarnings(\"ignore\", category=DeprecationWarning)\n",
    "# Iterate over three different runs with different parameters\n",
    "for param in parameters:\n",
    "  print(f\"Running with param = {param}\"),\n",
    "  res_sub = mlflow.run(ml_project_uri, parameters=param)\n",
    "  print(f\"status={res_sub.get_status()}\")\n",
    "  print(f\"run_id={res_sub.run_id}\")"
   ]
  },
  {
   "cell_type": "markdown",
   "metadata": {},
   "source": [
    "Use MLflow Project API\n",
    " * [mlflow.projects.run(...)](https://mlflow.org/docs/latest/python_api/mlflow.projects.html#mlflow.projects.run)\n",
    " * Returns [SubmittedRun](https://mlflow.org/docs/latest/python_api/mlflow.projects.html#mlflow.projects.SubmittedRun) object"
   ]
  },
  {
   "cell_type": "code",
   "execution_count": 5,
   "metadata": {},
   "outputs": [
    {
     "name": "stderr",
     "output_type": "stream",
     "text": [
      "2020/08/18 14:39:08 INFO mlflow.projects.utils: === Fetching project from git://github.com/mlflow/mlflow-example.git into /var/folders/jz/qg062ynx5v39wwmfxmph5nn40000gp/T/tmpogyg1jlb ===\n"
     ]
    },
    {
     "name": "stdout",
     "output_type": "stream",
     "text": [
      "Running with param = {'alpha': 0.3}\n"
     ]
    },
    {
     "name": "stderr",
     "output_type": "stream",
     "text": [
      "2020/08/18 14:39:11 INFO mlflow.projects: === Created directory /var/folders/jz/qg062ynx5v39wwmfxmph5nn40000gp/T/tmp_p9vjazd for downloading remote URIs passed to arguments of type 'path' ===\n",
      "2020/08/18 14:39:11 INFO mlflow.projects: === Running command 'source /Applications/anaconda3/bin/../etc/profile.d/conda.sh && conda activate mlflow-1abc00771765dd9dd15731cbda4938c765fbb90b 1>&2 && python train.py 0.3 0.1' in run with ID '2fbaef8c4bfa422d8bef45f33b9f8e24' === \n",
      "2020/08/18 14:39:12 INFO mlflow.projects: === Run (ID '2fbaef8c4bfa422d8bef45f33b9f8e24') succeeded ===\n"
     ]
    },
    {
     "name": "stdout",
     "output_type": "stream",
     "text": [
      "status=FINISHED\n",
      "run_id=2fbaef8c4bfa422d8bef45f33b9f8e24\n"
     ]
    }
   ],
   "source": [
    "warnings.filterwarnings(\"ignore\", category=DeprecationWarning)\n",
    "# Iterate over three different runs with different parameters\n",
    "for param in parameters:\n",
    "  print(f\"Running with param = {param}\"),\n",
    "  res_sub = projects.run(ml_project_uri, parameters=param)\n",
    "  print(f\"status={res_sub.get_status()}\")\n",
    "  print(f\"run_id={res_sub.run_id}\")"
   ]
  },
  {
   "cell_type": "markdown",
   "metadata": {},
   "source": [
    "### Check the MLflow UI\n",
    " * Add Notes & Tags\n",
    " * Compare Runs pick two best runs\n",
    " * Annotate with descriptions and tags\n",
    " * Evaluate the best run\n",
    " * Check for conda.yaml\n",
    " * Check for Metrics"
   ]
  },
  {
   "cell_type": "code",
   "execution_count": null,
   "metadata": {},
   "outputs": [
    {
     "name": "stdout",
     "output_type": "stream",
     "text": [
      "[2020-08-18 14:39:53 -0700] [2814] [INFO] Starting gunicorn 20.0.4\r\n",
      "[2020-08-18 14:39:53 -0700] [2814] [INFO] Listening at: http://127.0.0.1:5000 (2814)\r\n",
      "[2020-08-18 14:39:53 -0700] [2814] [INFO] Using worker: sync\r\n",
      "[2020-08-18 14:39:53 -0700] [2821] [INFO] Booting worker with pid: 2821\r\n"
     ]
    }
   ],
   "source": [
    "!mlflow ui"
   ]
  },
  {
   "cell_type": "markdown",
   "metadata": {},
   "source": [
    "### Excercise Assignment. Try different runs with:\n",
    "* Change or add parameters `alpha`values\n",
    "* Change or alter the range of runs and increments of n_estimators\n",
    "* Check in MLfow UI if the metrics are affected"
   ]
  }
 ],
 "metadata": {
  "kernelspec": {
   "display_name": "Python 3",
   "language": "python",
   "name": "python3"
  },
  "language_info": {
   "codemirror_mode": {
    "name": "ipython",
    "version": 3
   },
   "file_extension": ".py",
   "mimetype": "text/x-python",
   "name": "python",
   "nbconvert_exporter": "python",
   "pygments_lexer": "ipython3",
   "version": "3.7.5"
  },
  "name": "1_run_project_example",
  "notebookId": 3028997146775886
 },
 "nbformat": 4,
 "nbformat_minor": 1
}
