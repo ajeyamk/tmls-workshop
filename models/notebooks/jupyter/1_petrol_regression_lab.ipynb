{
 "cells": [
  {
   "cell_type": "markdown",
   "metadata": {},
   "source": [
    "#### Problem Tutorial 1: Regression Model\n",
    "\n",
    "We want to predict the gas consumption (in millions of gallons/year) in 48 of the US states\n",
    "based on some key features. \n",
    "\n",
    "These features are \n",
    " * petrol tax (in cents); \n",
    " * per capital income (in US dollars);\n",
    " * paved highway (in miles); and\n",
    " * population of people with driving licences\n",
    "\n",
    "<table>\n",
    "  <tr><td>\n",
    "    <img src=\"https://informedinfrastructure.com/wp-content/uploads/2012/06/traffic-jam.jpg\"\n",
    "         alt=\"Bank Note \" width=\"600\">\n",
    "  </td></tr>\n",
    "  <tr><td></td></tr>\n",
    "  <tr><td>\n",
    "  <img src=\"https://miro.medium.com/max/593/1*pfmeGgGM5sxmLBQ5IQfQew.png\"\n",
    "         alt=\"Matrix\" width=\"600\">\n",
    "  <tr><td></td></tr>\n",
    "  <tr><td>And seems like a bad consumption problem to have ...</td></tr>\n",
    "</table>\n",
    "  \n",
    "#### Solution:\n",
    "\n",
    "Since this is a regression problem where the value is a range of numbers, we can use the\n",
    "common Random Forest Algorithm in Scikit-Learn. Most regression models are evaluated with\n",
    "four [standard evalution metrics](https://medium.com/usf-msds/choosing-the-right-metric-for-machine-learning-models-part-1-a99d7d7414e4): \n",
    "\n",
    "* Mean Absolute Error (MAE)\n",
    "* Mean Squared Error (MSE)\n",
    "* Root Mean Squared Error (RSME)\n",
    "* R-squared (r2)\n",
    "\n",
    "This example is borrowed from this [source](https://stackabuse.com/random-forest-algorithm-with-python-and-scikit-learn/) and modified and modularized for this tutorial\n",
    "\n",
    "Aim of this this:\n",
    "\n",
    "1. Understand MLflow Tracking API\n",
    "2. How to use the MLflow Tracking API\n",
    "3. Use the MLflow API to experiment several Runs\n",
    "4. Interpret and observe runs via the MLflow UI\n",
    "\n",
    "Some Resources:\n",
    "* https://mlflow.org/docs/latest/python_api/mlflow.html\n",
    "* https://www.saedsayad.com/decision_tree_reg.htm\n",
    "* https://towardsdatascience.com/understanding-random-forest-58381e0602d2\n",
    "* https://scikit-learn.org/stable/modules/generated/sklearn.ensemble.RandomForestRegressor.html\n",
    "* https://towardsdatascience.com/regression-an-explanation-of-regression-metrics-and-what-can-go-wrong-a39a9793d914\n",
    "* https://www.analyticsvidhya.com/blog/2020/04/feature-scaling-machine-learning-normalization-standardization/"
   ]
  },
  {
   "cell_type": "markdown",
   "metadata": {},
   "source": [
    "Define all the classes and bring them into scope"
   ]
  },
  {
   "cell_type": "code",
   "execution_count": 2,
   "metadata": {},
   "outputs": [
    {
     "name": "stderr",
     "output_type": "stream",
     "text": [
      "ERROR:root:File `'../tracking/setup/lab_utils_cls.ipynb.py'` not found.\n",
      "ERROR:root:File `'..tracking/setup/rfr_regression_cls.ipynb.py'` not found.\n",
      "ERROR:root:File `'..tracking/setup/rfc_classification_cls.ipynb.py'` not found.\n",
      "ERROR:root:File `'..tracking/setup/rfr_regression_base_exp_cls.ipynb.py'` not found.\n"
     ]
    }
   ],
   "source": [
    "%run ../../../tracking/notebooks/jupyter/setup/lab_utils_cls.ipynb\n",
    "%run ../../../tracking/notebooks/jupyter/setup/rfr_regression_cls.ipynb\n",
    "%run ..tracking/setup/rfc_classification_cls.ipynb\n",
    "%run ..tracking/setup/rfr_regression_base_exp_cls.ipynb"
   ]
  },
  {
   "cell_type": "markdown",
   "metadata": {},
   "source": [
    "### Load the Dataset"
   ]
  },
  {
   "cell_type": "code",
   "execution_count": 5,
   "metadata": {},
   "outputs": [],
   "source": [
    "# Load and print dataset\n",
    "dataset = Utils.load_data(\"https://raw.githubusercontent.com/dmatrix/mlflow-workshop-part-1/master/data/petrol_consumption.csv\")\n",
    "dataset.head(5)"
   ]
  },
  {
   "cell_type": "markdown",
   "metadata": {},
   "source": [
    "Get descriptive statistics for the features"
   ]
  },
  {
   "cell_type": "code",
   "execution_count": 7,
   "metadata": {},
   "outputs": [],
   "source": [
    "dataset.describe()"
   ]
  },
  {
   "cell_type": "code",
   "execution_count": 8,
   "metadata": {},
   "outputs": [],
   "source": [
    "# Iterate over several runs with different parameters, such as number of trees. \n",
    "# For excercises, try changing max_depth, number of estimators, and consult the documentation what other tunning parameters\n",
    "# may affect a better outcome and supply them to the class constructor\n",
    "#\n",
    "max_depth = 0\n",
    "for n in range (20, 250, 50):\n",
    "  max_depth = max_depth + 2\n",
    "  params = {\"n_estimators\": n, \"max_depth\": max_depth}\n",
    "  rfr = RFRModel.new_instance(params)\n",
    "  (experimentID, runID) = rfr.mlflow_run(dataset, run_name=\"Regression Petrol Consumption Model\", verbose=True)\n",
    "  print(\"MLflow Run completed with run_id {} and experiment_id {}\".format(runID, experimentID))\n",
    "  print(\"-\" * 100)"
   ]
  },
  {
   "cell_type": "markdown",
   "metadata": {},
   "source": [
    "**Note**:\n",
    "\n",
    "With 20 trees, the root mean squared error is `64.93`, which is greater than 10 percent of the average petrol consumption i.e., `576.77`. \n",
    "This may sugggest that we have not used enough estimators (trees)."
   ]
  },
  {
   "cell_type": "markdown",
   "metadata": {},
   "source": [
    "#### Excercise Assignment. Try different runs with:\n",
    "1. Change or add parameters, such as depth of the tree or random_state: 42 etc.\n",
    "2. Change or alter the range of runs and increments of n_estimators\n",
    "3. Check in MLfow UI if the metrics are affected\n",
    "4. Load the best model as PyFuncModel (**HINT**: Check how MLflow Project Module 2 loaded pyfunc model and scored it)\n",
    "5. Score it with some [test data](https://github.com/dmatrix/olt-mlflow/blob/master/tracking/data/test_petrol_consumption.csv) used from our Tracking Module. (**HINT**: Drop the last column, as you want to predict it)"
   ]
  }
 ],
 "metadata": {
  "kernelspec": {
   "display_name": "Python 3",
   "language": "python",
   "name": "python3"
  },
  "language_info": {
   "codemirror_mode": {
    "name": "ipython",
    "version": 3
   },
   "file_extension": ".py",
   "mimetype": "text/x-python",
   "name": "python",
   "nbconvert_exporter": "python",
   "pygments_lexer": "ipython3",
   "version": "3.7.5"
  },
  "name": "1_petrol_regression_lab",
  "notebookId": 3111019316048371
 },
 "nbformat": 4,
 "nbformat_minor": 1
}
