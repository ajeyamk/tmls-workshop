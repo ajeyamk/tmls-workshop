{
 "cells": [
  {
   "cell_type": "code",
   "execution_count": 6,
   "metadata": {},
   "outputs": [
    {
     "data": {
      "text/html": [
       "<div>Declared various Utitily class utility methods:</div>\n",
       "<li>Declared <b style=\"color:green\">load_data(<i>path:file_name</i>)</b> for data files</li>\n",
       "<li>Declared <b style=\"color:green\">plot_graphs(<i>...</i>)</b> for ploting artifacts</li>\n",
       "<li>Declared <b style=\"color:green\">get_mlflow_directory_path</b> for mlruns path</li>\n",
       "<li>Declared <b style=\"color:green\">get_temporary_directory_path(<i>...</i>)</b> temporary artifact files</li>\n",
       "<li>Declared <b style=\"color:green\">plot_residual_graphs(<i>...</i>)</b> for plotting residues</li>\n",
       "<li>Declared <b style=\"color:green\">print_pandas_dataset(<i>name:String</i>)</b> to print Pandas dataFrame</li>\n",
       "\n",
       "<br/>"
      ],
      "text/plain": [
       "<IPython.core.display.HTML object>"
      ]
     },
     "metadata": {},
     "output_type": "display_data"
    }
   ],
   "source": [
    "%run ./lab_utils_cls.ipynb"
   ]
  },
  {
   "cell_type": "code",
   "execution_count": 7,
   "metadata": {},
   "outputs": [
    {
     "data": {
      "text/html": [
       "<div>Declared RandomForestRegress Model Class with methods:</div>\n",
       "<li>Declared <b style=\"color:green\">model()</b> returns existing instance of Random Forest Model</li>\n",
       "<li>Declared <b style=\"color:green\">new_instance(params={...}</b></li> returns a new instance of RandomForestClassifierModel</li> \n",
       "<li>Declared <b style=\"color:green\"> mlflow_run(DataFrame, run_name=\"name\")</b> returns experiment_ID, run_ID</li>\n",
       "\n",
       "<br/>"
      ],
      "text/plain": [
       "<IPython.core.display.HTML object>"
      ]
     },
     "metadata": {},
     "output_type": "display_data"
    }
   ],
   "source": [
    "%run ./rfr_regression_cls.ipynb"
   ]
  },
  {
   "cell_type": "code",
   "execution_count": 8,
   "metadata": {},
   "outputs": [
    {
     "data": {
      "text/html": [
       "<div>Declared RandomForestClassifierModel Class with methods:</div>\n",
       "<li>Declared <b style=\"color:green\">model()</b> returns existing instance of Random Forest Model</li>\n",
       "<li>Declared <b style=\"color:green\">params()</b> returns existing Random Forest Model's init parameters.</li>\n",
       "<li>Declared <b style=\"color:green\">new_instance(params={...})</b> returns a new instance of RandomForestClassifierModel</li> \n",
       "<li>Declared <b style=\"color:green\"> mlflow_run(DataFrame, run_name=\"name\")</b> returns experiment_ID, run_ID</li>\n",
       "\n",
       "<br/>"
      ],
      "text/plain": [
       "<IPython.core.display.HTML object>"
      ]
     },
     "metadata": {},
     "output_type": "display_data"
    }
   ],
   "source": [
    "%run ./rfc_classification_cls.ipynb"
   ]
  },
  {
   "cell_type": "code",
   "execution_count": 9,
   "metadata": {},
   "outputs": [
    {
     "data": {
      "text/html": [
       "<div>Declared RandomForestModel Base Abstract Class with methods:</div>\n",
       "<li>Declared <b style=\"color:green\">model()</b> returns existing instance of Random Forest Model</li>\n",
       "<li>Declared <b style=\"color:green\">new_instance(params={...})</b> returns a new instance of RandomForestClassifierModel</li> \n",
       "<li>Declared <b style=\"color:green\"> Abstract mlflow_run(DataFrame, run_name=\"name\")</b> returns experiment_ID, run_ID</li>\n",
       "\n",
       "<br/>"
      ],
      "text/plain": [
       "<IPython.core.display.HTML object>"
      ]
     },
     "metadata": {},
     "output_type": "display_data"
    },
    {
     "data": {
      "text/html": [
       "<div>Declared RFFExperimentModel Extended Class with methods:</div>\n",
       "<li>Declared <b style=\"color:green\">model()</b> returns existing instance of Random Forest Model</li>\n",
       "<li>Declared <b style=\"color:green\">new_instance(params={...})</b> returns a new instance of RandomForestClassifierModel</li> \n",
       "<li>Declared <b style=\"color:green\"> mlflow_run(DataFrame, run_name=\"name\")</b> returns experiment_ID, run_ID</li>\n",
       "\n",
       "<br/>"
      ],
      "text/plain": [
       "<IPython.core.display.HTML object>"
      ]
     },
     "metadata": {},
     "output_type": "display_data"
    }
   ],
   "source": [
    "%run ./rfr_regression_base_exp_cls.ipynb"
   ]
  }
 ],
 "metadata": {
  "kernelspec": {
   "display_name": "Python 3",
   "language": "python",
   "name": "python3"
  },
  "language_info": {
   "codemirror_mode": {
    "name": "ipython",
    "version": 3
   },
   "file_extension": ".py",
   "mimetype": "text/x-python",
   "name": "python",
   "nbconvert_exporter": "python",
   "pygments_lexer": "ipython3",
   "version": "3.7.5"
  },
  "name": "class_setup",
  "notebookId": 163179298746154
 },
 "nbformat": 4,
 "nbformat_minor": 1
}
