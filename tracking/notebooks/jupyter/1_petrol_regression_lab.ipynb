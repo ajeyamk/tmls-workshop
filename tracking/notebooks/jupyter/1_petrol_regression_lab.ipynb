{
 "cells": [
  {
   "cell_type": "markdown",
   "metadata": {},
   "source": [
    "#### Problem Tutorial 1: Regression Model\n",
    "\n",
    "We want to predict the gas consumption (in millions of gallons/year) in 48 of the US states\n",
    "based on some key features. \n",
    "\n",
    "These features are \n",
    " * petrol tax (in cents); \n",
    " * per capital income (in US dollars);\n",
    " * paved highway (in miles); and\n",
    " * population of people with driving licences\n",
    "\n",
    "<table>\n",
    "  <tr><td>\n",
    "    <img src=\"https://informedinfrastructure.com/wp-content/uploads/2012/06/traffic-jam.jpg\"\n",
    "         alt=\"Bank Note \" width=\"600\">\n",
    "  </td></tr>\n",
    "  <tr><td></td></tr>\n",
    "  <tr><td>\n",
    "  <img src=\"https://miro.medium.com/max/593/1*pfmeGgGM5sxmLBQ5IQfQew.png\"\n",
    "         alt=\"Matrix\" width=\"600\">\n",
    "  <tr><td></td></tr>\n",
    "  <tr><td>And seems like a bad consumption problem to have ...</td></tr>\n",
    "</table>\n",
    "  \n",
    "#### Solution:\n",
    "\n",
    "Since this is a regression problem where the value is a range of numbers, we can use the\n",
    "common Random Forest Algorithm in Scikit-Learn. Most regression models are evaluated with\n",
    "four [standard evalution metrics](https://medium.com/usf-msds/choosing-the-right-metric-for-machine-learning-models-part-1-a99d7d7414e4): \n",
    "\n",
    "* Mean Absolute Error (MAE)\n",
    "* Mean Squared Error (MSE)\n",
    "* Root Mean Squared Error (RSME)\n",
    "* R-squared (r2)\n",
    "\n",
    "This example is borrowed from this [source](https://stackabuse.com/random-forest-algorithm-with-python-and-scikit-learn/) and modified and modularized for this tutorial\n",
    "\n",
    "Aim of this this:\n",
    "\n",
    "1. Understand MLflow Tracking API\n",
    "2. How to use the MLflow Tracking API\n",
    "3. Use the MLflow API to experiment several Runs\n",
    "4. Interpret and observe runs via the MLflow UI\n",
    "\n",
    "Some Resources:\n",
    "* https://mlflow.org/docs/latest/python_api/mlflow.html\n",
    "* https://www.saedsayad.com/decision_tree_reg.htm\n",
    "* https://towardsdatascience.com/understanding-random-forest-58381e0602d2\n",
    "* https://scikit-learn.org/stable/modules/generated/sklearn.ensemble.RandomForestRegressor.html\n",
    "* https://towardsdatascience.com/regression-an-explanation-of-regression-metrics-and-what-can-go-wrong-a39a9793d914\n",
    "* https://www.analyticsvidhya.com/blog/2020/04/feature-scaling-machine-learning-normalization-standardization/"
   ]
  },
  {
   "cell_type": "markdown",
   "metadata": {},
   "source": [
    "Define all the classes and bring them into scope"
   ]
  },
  {
   "cell_type": "markdown",
   "metadata": {},
   "source": [
    "### Load the Dataset"
   ]
  },
  {
   "cell_type": "code",
   "execution_count": 1,
   "metadata": {},
   "outputs": [
    {
     "data": {
      "text/html": [
       "<div>Declared various Utitily class utility methods:</div>\n",
       "<li>Declared <b style=\"color:green\">load_data(<i>path:file_name</i>)</b> for data files</li>\n",
       "<li>Declared <b style=\"color:green\">plot_graphs(<i>...</i>)</b> for ploting artifacts</li>\n",
       "<li>Declared <b style=\"color:green\">get_mlflow_directory_path</b> for mlruns path</li>\n",
       "<li>Declared <b style=\"color:green\">get_temporary_directory_path(<i>...</i>)</b> temporary artifact files</li>\n",
       "<li>Declared <b style=\"color:green\">plot_residual_graphs(<i>...</i>)</b> for plotting residues</li>\n",
       "<li>Declared <b style=\"color:green\">print_pandas_dataset(<i>name:String</i>)</b> to print Pandas dataFrame</li>\n",
       "\n",
       "<br/>\n"
      ],
      "text/plain": [
       "<IPython.core.display.HTML object>"
      ]
     },
     "metadata": {},
     "output_type": "display_data"
    },
    {
     "data": {
      "text/html": [
       "<div>Declared RandomForestRegress Model Class with methods:</div>\n",
       "<li>Declared <b style=\"color:green\">model()</b> returns existing instance of Random Forest Model</li>\n",
       "<li>Declared <b style=\"color:green\">new_instance(params={...}</b></li> returns a new instance of RandomForestClassifierModel</li> \n",
       "<li>Declared <b style=\"color:green\"> mlflow_run(DataFrame, run_name=\"name\")</b> returns experiment_ID, run_ID</li>\n",
       "\n",
       "<br/>\n"
      ],
      "text/plain": [
       "<IPython.core.display.HTML object>"
      ]
     },
     "metadata": {},
     "output_type": "display_data"
    },
    {
     "data": {
      "text/html": [
       "<div>Declared RandomForestClassifierModel Class with methods:</div>\n",
       "<li>Declared <b style=\"color:green\">model()</b> returns existing instance of Random Forest Model</li>\n",
       "<li>Declared <b style=\"color:green\">params()</b> returns existing Random Forest Model's init parameters.</li>\n",
       "<li>Declared <b style=\"color:green\">new_instance(params={...})</b> returns a new instance of RandomForestClassifierModel</li> \n",
       "<li>Declared <b style=\"color:green\"> mlflow_run(DataFrame, run_name=\"name\")</b> returns experiment_ID, run_ID</li>\n",
       "\n",
       "<br/>\n"
      ],
      "text/plain": [
       "<IPython.core.display.HTML object>"
      ]
     },
     "metadata": {},
     "output_type": "display_data"
    },
    {
     "data": {
      "text/html": [
       "<div>Declared RandomForestModel Base Abstract Class with methods:</div>\n",
       "<li>Declared <b style=\"color:green\">model()</b> returns existing instance of Random Forest Model</li>\n",
       "<li>Declared <b style=\"color:green\">new_instance(params={...})</b> returns a new instance of RandomForestClassifierModel</li> \n",
       "<li>Declared <b style=\"color:green\"> Abstract mlflow_run(DataFrame, run_name=\"name\")</b> returns experiment_ID, run_ID</li>\n",
       "\n",
       "<br/>\n"
      ],
      "text/plain": [
       "<IPython.core.display.HTML object>"
      ]
     },
     "metadata": {},
     "output_type": "display_data"
    },
    {
     "data": {
      "text/html": [
       "<div>Declared RFFExperimentModel Extended Class with methods:</div>\n",
       "<li>Declared <b style=\"color:green\">model()</b> returns existing instance of Random Forest Model</li>\n",
       "<li>Declared <b style=\"color:green\">new_instance(params={...})</b> returns a new instance of RandomForestClassifierModel</li> \n",
       "<li>Declared <b style=\"color:green\"> mlflow_run(DataFrame, run_name=\"name\")</b> returns experiment_ID, run_ID</li>\n",
       "\n",
       "<br/>\n"
      ],
      "text/plain": [
       "<IPython.core.display.HTML object>"
      ]
     },
     "metadata": {},
     "output_type": "display_data"
    }
   ],
   "source": [
    "%run ./setup/lab_utils_cls.ipynb\n",
    "%run ./setup/rfr_regression_cls.ipynb\n",
    "%run ./setup/rfc_classification_cls.ipynb\n",
    "%run ./setup/rfr_regression_base_exp_cls.ipynb"
   ]
  },
  {
   "cell_type": "code",
   "execution_count": 9,
   "metadata": {},
   "outputs": [
    {
     "data": {
      "text/html": [
       "<div>\n",
       "<style scoped>\n",
       "    .dataframe tbody tr th:only-of-type {\n",
       "        vertical-align: middle;\n",
       "    }\n",
       "\n",
       "    .dataframe tbody tr th {\n",
       "        vertical-align: top;\n",
       "    }\n",
       "\n",
       "    .dataframe thead th {\n",
       "        text-align: right;\n",
       "    }\n",
       "</style>\n",
       "<table border=\"1\" class=\"dataframe\">\n",
       "  <thead>\n",
       "    <tr style=\"text-align: right;\">\n",
       "      <th></th>\n",
       "      <th>Petrol_tax</th>\n",
       "      <th>Average_income</th>\n",
       "      <th>Paved_Highways</th>\n",
       "      <th>Population_Driver_licence(%)</th>\n",
       "      <th>Petrol_Consumption</th>\n",
       "    </tr>\n",
       "  </thead>\n",
       "  <tbody>\n",
       "    <tr>\n",
       "      <th>0</th>\n",
       "      <td>9.0</td>\n",
       "      <td>3571</td>\n",
       "      <td>1976</td>\n",
       "      <td>0.525</td>\n",
       "      <td>541</td>\n",
       "    </tr>\n",
       "    <tr>\n",
       "      <th>1</th>\n",
       "      <td>9.0</td>\n",
       "      <td>4092</td>\n",
       "      <td>1250</td>\n",
       "      <td>0.572</td>\n",
       "      <td>524</td>\n",
       "    </tr>\n",
       "    <tr>\n",
       "      <th>2</th>\n",
       "      <td>9.0</td>\n",
       "      <td>3865</td>\n",
       "      <td>1586</td>\n",
       "      <td>0.580</td>\n",
       "      <td>561</td>\n",
       "    </tr>\n",
       "    <tr>\n",
       "      <th>3</th>\n",
       "      <td>7.5</td>\n",
       "      <td>4870</td>\n",
       "      <td>2351</td>\n",
       "      <td>0.529</td>\n",
       "      <td>414</td>\n",
       "    </tr>\n",
       "    <tr>\n",
       "      <th>4</th>\n",
       "      <td>8.0</td>\n",
       "      <td>4399</td>\n",
       "      <td>431</td>\n",
       "      <td>0.544</td>\n",
       "      <td>410</td>\n",
       "    </tr>\n",
       "  </tbody>\n",
       "</table>\n",
       "</div>"
      ],
      "text/plain": [
       "   Petrol_tax  Average_income  Paved_Highways  Population_Driver_licence(%)  \\\n",
       "0         9.0            3571            1976                         0.525   \n",
       "1         9.0            4092            1250                         0.572   \n",
       "2         9.0            3865            1586                         0.580   \n",
       "3         7.5            4870            2351                         0.529   \n",
       "4         8.0            4399             431                         0.544   \n",
       "\n",
       "   Petrol_Consumption  \n",
       "0                 541  \n",
       "1                 524  \n",
       "2                 561  \n",
       "3                 414  \n",
       "4                 410  "
      ]
     },
     "execution_count": 9,
     "metadata": {},
     "output_type": "execute_result"
    }
   ],
   "source": [
    "# Load and print dataset\n",
    "dataset = Utils.load_data(\"https://raw.githubusercontent.com/dmatrix/mlflow-workshop-part-1/master/data/petrol_consumption.csv\")\n",
    "dataset.head(5)"
   ]
  },
  {
   "cell_type": "markdown",
   "metadata": {},
   "source": [
    "Get descriptive statistics for the features"
   ]
  },
  {
   "cell_type": "code",
   "execution_count": 10,
   "metadata": {},
   "outputs": [
    {
     "data": {
      "text/html": [
       "<div>\n",
       "<style scoped>\n",
       "    .dataframe tbody tr th:only-of-type {\n",
       "        vertical-align: middle;\n",
       "    }\n",
       "\n",
       "    .dataframe tbody tr th {\n",
       "        vertical-align: top;\n",
       "    }\n",
       "\n",
       "    .dataframe thead th {\n",
       "        text-align: right;\n",
       "    }\n",
       "</style>\n",
       "<table border=\"1\" class=\"dataframe\">\n",
       "  <thead>\n",
       "    <tr style=\"text-align: right;\">\n",
       "      <th></th>\n",
       "      <th>Petrol_tax</th>\n",
       "      <th>Average_income</th>\n",
       "      <th>Paved_Highways</th>\n",
       "      <th>Population_Driver_licence(%)</th>\n",
       "      <th>Petrol_Consumption</th>\n",
       "    </tr>\n",
       "  </thead>\n",
       "  <tbody>\n",
       "    <tr>\n",
       "      <th>count</th>\n",
       "      <td>48.000000</td>\n",
       "      <td>48.000000</td>\n",
       "      <td>48.000000</td>\n",
       "      <td>48.000000</td>\n",
       "      <td>48.000000</td>\n",
       "    </tr>\n",
       "    <tr>\n",
       "      <th>mean</th>\n",
       "      <td>7.668333</td>\n",
       "      <td>4241.833333</td>\n",
       "      <td>5565.416667</td>\n",
       "      <td>0.570333</td>\n",
       "      <td>576.770833</td>\n",
       "    </tr>\n",
       "    <tr>\n",
       "      <th>std</th>\n",
       "      <td>0.950770</td>\n",
       "      <td>573.623768</td>\n",
       "      <td>3491.507166</td>\n",
       "      <td>0.055470</td>\n",
       "      <td>111.885816</td>\n",
       "    </tr>\n",
       "    <tr>\n",
       "      <th>min</th>\n",
       "      <td>5.000000</td>\n",
       "      <td>3063.000000</td>\n",
       "      <td>431.000000</td>\n",
       "      <td>0.451000</td>\n",
       "      <td>344.000000</td>\n",
       "    </tr>\n",
       "    <tr>\n",
       "      <th>25%</th>\n",
       "      <td>7.000000</td>\n",
       "      <td>3739.000000</td>\n",
       "      <td>3110.250000</td>\n",
       "      <td>0.529750</td>\n",
       "      <td>509.500000</td>\n",
       "    </tr>\n",
       "    <tr>\n",
       "      <th>50%</th>\n",
       "      <td>7.500000</td>\n",
       "      <td>4298.000000</td>\n",
       "      <td>4735.500000</td>\n",
       "      <td>0.564500</td>\n",
       "      <td>568.500000</td>\n",
       "    </tr>\n",
       "    <tr>\n",
       "      <th>75%</th>\n",
       "      <td>8.125000</td>\n",
       "      <td>4578.750000</td>\n",
       "      <td>7156.000000</td>\n",
       "      <td>0.595250</td>\n",
       "      <td>632.750000</td>\n",
       "    </tr>\n",
       "    <tr>\n",
       "      <th>max</th>\n",
       "      <td>10.000000</td>\n",
       "      <td>5342.000000</td>\n",
       "      <td>17782.000000</td>\n",
       "      <td>0.724000</td>\n",
       "      <td>968.000000</td>\n",
       "    </tr>\n",
       "  </tbody>\n",
       "</table>\n",
       "</div>"
      ],
      "text/plain": [
       "       Petrol_tax  Average_income  Paved_Highways  \\\n",
       "count   48.000000       48.000000       48.000000   \n",
       "mean     7.668333     4241.833333     5565.416667   \n",
       "std      0.950770      573.623768     3491.507166   \n",
       "min      5.000000     3063.000000      431.000000   \n",
       "25%      7.000000     3739.000000     3110.250000   \n",
       "50%      7.500000     4298.000000     4735.500000   \n",
       "75%      8.125000     4578.750000     7156.000000   \n",
       "max     10.000000     5342.000000    17782.000000   \n",
       "\n",
       "       Population_Driver_licence(%)  Petrol_Consumption  \n",
       "count                     48.000000           48.000000  \n",
       "mean                       0.570333          576.770833  \n",
       "std                        0.055470          111.885816  \n",
       "min                        0.451000          344.000000  \n",
       "25%                        0.529750          509.500000  \n",
       "50%                        0.564500          568.500000  \n",
       "75%                        0.595250          632.750000  \n",
       "max                        0.724000          968.000000  "
      ]
     },
     "execution_count": 10,
     "metadata": {},
     "output_type": "execute_result"
    }
   ],
   "source": [
    "dataset.describe()"
   ]
  },
  {
   "cell_type": "code",
   "execution_count": 11,
   "metadata": {},
   "outputs": [
    {
     "name": "stdout",
     "output_type": "stream",
     "text": [
      "----------------------------------------------------------------------------------------------------\n",
      "Inside MLflow Run with run_id dd7826fa34a7406a96807d988a09d3cf and experiment_id 0\n",
      "Estimator trees        : 20\n",
      "Mean Absolute Error    : 54.48697169946864\n",
      "Mean Squared Error     : 4318.663175664619\n",
      "Root Mean Squared Error: 65.71653654647831\n",
      "MLflow Run completed with run_id dd7826fa34a7406a96807d988a09d3cf and experiment_id 0\n",
      "----------------------------------------------------------------------------------------------------\n",
      "----------------------------------------------------------------------------------------------------\n",
      "Inside MLflow Run with run_id 2f6876e5e87843c2b4f811ef792e0037 and experiment_id 0\n",
      "Estimator trees        : 70\n",
      "Mean Absolute Error    : 52.76757374558217\n",
      "Mean Squared Error     : 3951.3088720653564\n",
      "Root Mean Squared Error: 62.85943741448341\n",
      "MLflow Run completed with run_id 2f6876e5e87843c2b4f811ef792e0037 and experiment_id 0\n",
      "----------------------------------------------------------------------------------------------------\n",
      "----------------------------------------------------------------------------------------------------\n",
      "Inside MLflow Run with run_id 85f9c776da1b4b388de31e182399f597 and experiment_id 0\n",
      "Estimator trees        : 120\n",
      "Mean Absolute Error    : 43.90344392875643\n",
      "Mean Squared Error     : 3093.3135350858697\n",
      "Root Mean Squared Error: 55.61756498702429\n",
      "MLflow Run completed with run_id 85f9c776da1b4b388de31e182399f597 and experiment_id 0\n",
      "----------------------------------------------------------------------------------------------------\n",
      "----------------------------------------------------------------------------------------------------\n",
      "Inside MLflow Run with run_id f23643fcf1df4cd6b2b50dca455e9f61 and experiment_id 0\n",
      "Estimator trees        : 170\n",
      "Mean Absolute Error    : 47.189163738222575\n",
      "Mean Squared Error     : 3414.128056665042\n",
      "Root Mean Squared Error: 58.43054044474552\n",
      "MLflow Run completed with run_id f23643fcf1df4cd6b2b50dca455e9f61 and experiment_id 0\n",
      "----------------------------------------------------------------------------------------------------\n",
      "----------------------------------------------------------------------------------------------------\n",
      "Inside MLflow Run with run_id f542abc2afee44f5afacb45b1c2b9c7c and experiment_id 0\n",
      "Estimator trees        : 220\n",
      "Mean Absolute Error    : 50.61698484848484\n",
      "Mean Squared Error     : 3649.9045274127625\n",
      "Root Mean Squared Error: 60.41443972605194\n",
      "MLflow Run completed with run_id f542abc2afee44f5afacb45b1c2b9c7c and experiment_id 0\n",
      "----------------------------------------------------------------------------------------------------\n"
     ]
    },
    {
     "data": {
      "text/plain": [
       "<Figure size 432x288 with 0 Axes>"
      ]
     },
     "metadata": {},
     "output_type": "display_data"
    },
    {
     "data": {
      "text/plain": [
       "<Figure size 432x288 with 0 Axes>"
      ]
     },
     "metadata": {},
     "output_type": "display_data"
    },
    {
     "data": {
      "text/plain": [
       "<Figure size 432x288 with 0 Axes>"
      ]
     },
     "metadata": {},
     "output_type": "display_data"
    },
    {
     "data": {
      "text/plain": [
       "<Figure size 432x288 with 0 Axes>"
      ]
     },
     "metadata": {},
     "output_type": "display_data"
    },
    {
     "data": {
      "text/plain": [
       "<Figure size 432x288 with 0 Axes>"
      ]
     },
     "metadata": {},
     "output_type": "display_data"
    },
    {
     "data": {
      "image/png": "[encoded data removed]",
      "text/plain": [
       "<Figure size 432x288 with 1 Axes>"
      ]
     },
     "metadata": {
      "needs_background": "light"
     },
     "output_type": "display_data"
    }
   ],
   "source": [
    "# Iterate over several runs with different parameters, such as number of trees. \n",
    "# For excercises, try changing max_depth, number of estimators, and consult the documentation what other tunning parameters\n",
    "# may affect a better outcome and supply them to the class constructor\n",
    "# Excercise 1 & 2: \n",
    "# 1) add key-value parameters to this list\n",
    "# 2) iterate over the list\n",
    "# 3) Compute R2 in the RFRModel class\n",
    "max_depth = 0\n",
    "for n in range (20, 250, 50):\n",
    "  max_depth = max_depth + 2\n",
    "  params = {\"n_estimators\": n, \"max_depth\": max_depth}\n",
    "  rfr = RFRModel.new_instance(params)\n",
    "  (experimentID, runID) = rfr.mlflow_run(dataset, run_name=\"Regression Petrol Consumption Model\", verbose=True)\n",
    "  print(\"MLflow Run completed with run_id {} and experiment_id {}\".format(runID, experimentID))\n",
    "  print(\"-\" * 100)"
   ]
  },
  {
   "cell_type": "markdown",
   "metadata": {},
   "source": [
    "**Note**:\n",
    "\n",
    "With 20 trees, the root mean squared error is `64.93`, which is greater than 10 percent of the average petrol consumption i.e., `576.77`. \n",
    "This may sugggest that we have not used enough estimators (trees)."
   ]
  },
  {
   "cell_type": "markdown",
   "metadata": {},
   "source": [
    "### Let's Explore the MLflow UI\n",
    "\n",
    "* Add Notes & Tags\n",
    "* Compare Runs pick two best runs\n",
    "* Annotate with descriptions and tags\n",
    "* Evaluate the best run"
   ]
  },
  {
   "cell_type": "code",
   "execution_count": null,
   "metadata": {},
   "outputs": [
    {
     "name": "stdout",
     "output_type": "stream",
     "text": [
      "[2020-08-11 14:45:24 -0700] [60345] [INFO] Starting gunicorn 20.0.4\r\n",
      "[2020-08-11 14:45:24 -0700] [60345] [INFO] Listening at: http://127.0.0.1:5000 (60345)\r\n",
      "[2020-08-11 14:45:24 -0700] [60345] [INFO] Using worker: sync\r\n",
      "[2020-08-11 14:45:24 -0700] [60348] [INFO] Booting worker with pid: 60348\r\n"
     ]
    }
   ],
   "source": [
    "!mlflow ui"
   ]
  },
  {
   "cell_type": "markdown",
   "metadata": {},
   "source": [
    "#### Excercise Assignment. Try different runs with:\n",
    "1. Change or add parameters, such as depth of the tree or random_state: 42 etc.\n",
    "2. Change or alter the range of runs and increments of n_estimators\n",
    "3. Compute R2 metric in the `RFRModel` class and and log the metric\n",
    "3. Check in MLfow UI if the metrics are affected"
   ]
  },
  {
   "cell_type": "markdown",
   "metadata": {},
   "source": [
    "#### HOMEWORK CHALLENGE\n",
    "6. Change the [RandomForestRegressor](https://scikit-learn.org/stable/modules/generated/sklearn.ensemble.RandomForestRegressor.html) to a [LinearRegression](https://scikit-learn.org/stable/modules/generated/sklearn.linear_model.LinearRegression.html?highlight=linearregression#sklearn.linear_model.LinearRegression)\n",
    "    * Add extra tunning parameters \n",
    "    * Compare the evaluation metrics and ascertain which one is better"
   ]
  }
 ],
 "metadata": {
  "kernelspec": {
   "display_name": "Python 3",
   "language": "python",
   "name": "python3"
  },
  "language_info": {
   "codemirror_mode": {
    "name": "ipython",
    "version": 3
   },
   "file_extension": ".py",
   "mimetype": "text/x-python",
   "name": "python",
   "nbconvert_exporter": "python",
   "pygments_lexer": "ipython3",
   "version": "3.7.5"
  },
  "name": "1_petrol_regression_lab",
  "notebookId": 163179298746166
 },
 "nbformat": 4,
 "nbformat_minor": 1
}
