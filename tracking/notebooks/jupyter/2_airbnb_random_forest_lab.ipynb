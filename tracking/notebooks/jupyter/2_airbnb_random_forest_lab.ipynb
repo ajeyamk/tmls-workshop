{
 "cells": [
  {
   "cell_type": "markdown",
   "metadata": {},
   "source": [
    "#### Problem - Tutorial 2: Regression\n",
    "\n",
    "<table>\n",
    "  <tr><td>\n",
    "    <img src=\"https://brokeassstuart.com/wp-content/pictsnShit/2019/07/inside-airbnb-1263x560.jpg\"\n",
    "         alt=\"Bank Note \" width=\"600\">\n",
    "  </td></tr>\n",
    "  <tr><td></td></tr>\n",
    "  <tr><td>\n",
    "  <img src=\"https://miro.medium.com/max/593/1*pfmeGgGM5sxmLBQ5IQfQew.png\"\n",
    "         alt=\"Matrix\" width=\"600\">\n",
    "  <tr><td></td></tr>\n",
    "  <tr><td>Can we predict AirBnB prices in SF ...</td></tr>\n",
    "</table>\n",
    "\n",
    "source: Databricks Learning Academy MLflow Course\n",
    "\n",
    "Refactored code to modularize it\n",
    "\n",
    "While iterating or build models, data scientists will often create a base line model to see how the model performs.\n",
    "And then iterate with experiments, changing or altering parameters to ascertain how the new parameters or\n",
    "hyper-parameters move the metrics closer to their confidence level.\n",
    "\n",
    "This is our base line model using RandomForestRegressor model to predict AirBnb house prices in SF.\n",
    "Given 22 features, can we predict what the next house price will be?\n",
    "\n",
    "We will compute standard evalution metrics and log them.\n",
    "\n",
    "Aim of this module is:\n",
    "\n",
    "1. Introduce tracking ML experiments in MLflow\n",
    "2. Log an experiment run and explore the results in the UI\n",
    "3. Record parameters, metrics, and model artifacts\n",
    "\n",
    "Some Resources:\n",
    "* https://mlflow.org/docs/latest/python_api/mlflow.html\n",
    "* https://www.saedsayad.com/decision_tree_reg.htm\n",
    "* https://stackabuse.com/random-forest-algorithm-with-python-and-scikit-learn/\n",
    "* https://towardsdatascience.com/understanding-random-forest-58381e0602d2\n",
    "* https://scikit-learn.org/stable/modules/generated/sklearn.ensemble.RandomForestRegressor.html\n",
    "* https://towardsdatascience.com/explaining-feature-importance-by-example-of-a-random-forest-d9166011959e\n",
    "* https://seaborn.pydata.org/tutorial/regression.html"
   ]
  },
  {
   "cell_type": "code",
   "execution_count": null,
   "metadata": {},
   "outputs": [],
   "source": [
    "%run ./setup/lab_utils_cls.ipynb\n",
    "%run ./setup/rfr_regression_cls.ipynb\n",
    "%run ./setup/rfc_classification_cls.ipynb\n",
    "%run ./setup/rfr_regression_base_exp_cls.ipynb"
   ]
  },
  {
   "cell_type": "code",
   "execution_count": null,
   "metadata": {},
   "outputs": [],
   "source": [
    "# load the data\n",
    "dataset = Utils.load_data(\"https://raw.githubusercontent.com/dmatrix/mlflow-workshop-part-1/master/data/airbnb-cleaned-mlflow.csv\")\n",
    "dataset.head()"
   ]
  },
  {
   "cell_type": "code",
   "execution_count": null,
   "metadata": {},
   "outputs": [],
   "source": [
    "dataset.describe()"
   ]
  },
  {
   "cell_type": "code",
   "execution_count": null,
   "metadata": {},
   "outputs": [],
   "source": [
    "# To try different experiment runs, each with its own instance of model with the supplied parameters, \n",
    "# add more parameters to this dictionary list to experiment different parameters and their\n",
    "# effects on evaluation metrics.\n",
    "# Excercise 1, 2, 3 & 4: \n",
    "# 1) add key-value parameters to this list\n",
    "# 2) iterate over the list\n",
    "# 3) Compute R2 in the RFHousePriceModel class\n",
    "# 4) Compute signature and save as part of the model\n",
    "params_list = [{\"n_estimators\": 75,\"max_depth\": 5, \"random_state\": 42}]\n",
    "# run these experiments, each with its own instance of model with the supplied parameters.\n",
    "for params in params_list:\n",
    "  rfr = RFHousePriceModel.new_instance(params)  \n",
    "  experiment = \"Experiment with {} trees\".format(params['n_estimators'])\n",
    "  (experimentID, runID) = rfr.mlflow_run(dataset, run_name=\"AirBnB House Pricing Regression Model\", verbose=True)\n",
    "  print(\"MLflow Run completed with run_id {} and experiment_id {}\".format(runID, experimentID))\n",
    "  print(\"-\" * 100)"
   ]
  },
  {
   "cell_type": "markdown",
   "metadata": {},
   "source": [
    "### Let's Explore the MLflow UI\n",
    " * Add Notes & Tags\n",
    " * Compare Runs pick two best runs\n",
    " * Annotate with descriptions and tags\n",
    " * Evaluate the best run"
   ]
  },
  {
   "cell_type": "code",
   "execution_count": null,
   "metadata": {},
   "outputs": [],
   "source": [
    "!mlflow ui"
   ]
  },
  {
   "cell_type": "markdown",
   "metadata": {},
   "source": [
    "#### Excercise Assignment. Try different runs with:\n",
    "1. Change or add parameters, such as depth of the tree or random_state: 42 etc.\n",
    "2. Change or alter the range of runs and increments of n_estimators\n",
    "3. Compute R2 metric in the `RFHousePriceModel` class and and log the metric\n",
    "4. Determine the model signature and save as part of the model\n",
    "5. Check in MLfow UI if the metrics are affected"
   ]
  },
  {
   "cell_type": "markdown",
   "metadata": {},
   "source": [
    "#### HOMEWORK CHALLENGE\n",
    "\n",
    " 1. Consult [RandomForestRegressor](https://scikit-learn.org/stable/modules/generated/sklearn.ensemble.RandomForestRegressor.html) documentation to see what hyperparameters you can specify\n",
    "  * Change or add parameters, such as depth of the tree\n",
    " 2. Change or alter the range of runs and increments of n_estimators\n",
    " 3. Use [scikit-learn cross validation](https://scikit-learn.org/stable/modules/generated/sklearn.model_selection.cross_validate.html) to see any difference in metrics"
   ]
  }
 ],
 "metadata": {
  "kernelspec": {
   "display_name": "Python 3",
   "language": "python",
   "name": "python3"
  },
  "language_info": {
   "codemirror_mode": {
    "name": "ipython",
    "version": 3
   },
   "file_extension": ".py",
   "mimetype": "text/x-python",
   "name": "python",
   "nbconvert_exporter": "python",
   "pygments_lexer": "ipython3",
   "version": "3.7.5"
  },
  "name": "2_airbnb_random_forest_lab",
  "notebookId": 163179298746106
 },
 "nbformat": 4,
 "nbformat_minor": 1
}
